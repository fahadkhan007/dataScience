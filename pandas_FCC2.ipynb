{
 "cells": [
  {
   "cell_type": "code",
   "execution_count": 1,
   "id": "0fd94973-8d35-43b6-8984-b6148c09e37d",
   "metadata": {},
   "outputs": [],
   "source": [
    "import numpy as np"
   ]
  },
  {
   "cell_type": "code",
   "execution_count": 2,
   "id": "e0125273-e5ff-4ba5-99fb-4f0cb2d6bd3a",
   "metadata": {},
   "outputs": [],
   "source": [
    "import pandas as pd"
   ]
  },
  {
   "cell_type": "code",
   "execution_count": 3,
   "id": "30fac897-e457-40ea-9cf0-f9f88b668800",
   "metadata": {},
   "outputs": [],
   "source": [
    "data = pd.Series({\n",
    "    \"China\": 1412,\n",
    "    \"India\": 1400,\n",
    "    \"United States\": 331,\n",
    "    \"Indonesia\": 273,\n",
    "    \"Pakistan\": 231,\n",
    "    \"Brazil\": 214,\n",
    "    \"Nigeria\": 206,\n",
    "    \"Bangladesh\": 169,\n",
    "    \"Russia\": 144,\n",
    "    \"Mexico\": 126,\n",
    "    \"Japan\": 125,\n",
    "    \"Ethiopia\": 121,\n",
    "    \"Philippines\": 113,\n",
    "    \"Egypt\": 112,\n",
    "    \"Vietnam\": 99\n",
    "})"
   ]
  },
  {
   "cell_type": "code",
   "execution_count": 5,
   "id": "88517946-fc37-45e7-8890-382fa3b35114",
   "metadata": {},
   "outputs": [],
   "source": [
    "data.name=\"Population of some countries\""
   ]
  },
  {
   "cell_type": "code",
   "execution_count": 6,
   "id": "abba925f-53ac-42b1-8f86-de02fa48ba54",
   "metadata": {},
   "outputs": [
    {
     "data": {
      "text/plain": [
       "China            1412\n",
       "India            1400\n",
       "United States     331\n",
       "Indonesia         273\n",
       "Pakistan          231\n",
       "Brazil            214\n",
       "Nigeria           206\n",
       "Bangladesh        169\n",
       "Russia            144\n",
       "Mexico            126\n",
       "Japan             125\n",
       "Ethiopia          121\n",
       "Philippines       113\n",
       "Egypt             112\n",
       "Vietnam            99\n",
       "Name: Population of some countries, dtype: int64"
      ]
     },
     "execution_count": 6,
     "metadata": {},
     "output_type": "execute_result"
    }
   ],
   "source": [
    "data"
   ]
  },
  {
   "cell_type": "code",
   "execution_count": 10,
   "id": "50758209-118c-4f34-9b08-8d10327e4734",
   "metadata": {},
   "outputs": [
    {
     "data": {
      "text/plain": [
       "np.int64(1412)"
      ]
     },
     "execution_count": 10,
     "metadata": {},
     "output_type": "execute_result"
    }
   ],
   "source": [
    "data.iloc[0]"
   ]
  },
  {
   "cell_type": "code",
   "execution_count": 11,
   "id": "62797405-b19e-4d9c-a730-b9e0c4634360",
   "metadata": {},
   "outputs": [
    {
     "data": {
      "text/plain": [
       "np.int64(1400)"
      ]
     },
     "execution_count": 11,
     "metadata": {},
     "output_type": "execute_result"
    }
   ],
   "source": [
    "data[\"India\"]"
   ]
  },
  {
   "cell_type": "code",
   "execution_count": 12,
   "id": "95f27ff9-e249-4b9b-bc98-c70668c301c4",
   "metadata": {},
   "outputs": [
    {
     "data": {
      "text/plain": [
       "India            1400\n",
       "United States     331\n",
       "Indonesia         273\n",
       "Pakistan          231\n",
       "Brazil            214\n",
       "Nigeria           206\n",
       "Bangladesh        169\n",
       "Russia            144\n",
       "Mexico            126\n",
       "Japan             125\n",
       "Ethiopia          121\n",
       "Philippines       113\n",
       "Egypt             112\n",
       "Name: Population of some countries, dtype: int64"
      ]
     },
     "execution_count": 12,
     "metadata": {},
     "output_type": "execute_result"
    }
   ],
   "source": [
    "data[\"India\":\"Egypt\"]"
   ]
  },
  {
   "cell_type": "code",
   "execution_count": 13,
   "id": "a406cd74-f61e-4702-a8d3-b6a1b3a41bdf",
   "metadata": {},
   "outputs": [
    {
     "data": {
      "text/plain": [
       "China            1412\n",
       "India            1400\n",
       "United States     331\n",
       "Indonesia         273\n",
       "Pakistan          231\n",
       "Name: Population of some countries, dtype: int64"
      ]
     },
     "execution_count": 13,
     "metadata": {},
     "output_type": "execute_result"
    }
   ],
   "source": [
    "data.head(5)"
   ]
  },
  {
   "cell_type": "code",
   "execution_count": 14,
   "id": "44ef2593-b097-4118-9f53-8dcf6e882a04",
   "metadata": {},
   "outputs": [
    {
     "data": {
      "text/plain": [
       "Japan          125\n",
       "Ethiopia       121\n",
       "Philippines    113\n",
       "Egypt          112\n",
       "Vietnam         99\n",
       "Name: Population of some countries, dtype: int64"
      ]
     },
     "execution_count": 14,
     "metadata": {},
     "output_type": "execute_result"
    }
   ],
   "source": [
    "data.tail(5)"
   ]
  },
  {
   "cell_type": "code",
   "execution_count": 15,
   "id": "21c27b9f-8232-4fe0-938a-23c7d0d417ce",
   "metadata": {},
   "outputs": [
    {
     "data": {
      "text/plain": [
       "<bound method NDFrame.describe of China            1412\n",
       "India            1400\n",
       "United States     331\n",
       "Indonesia         273\n",
       "Pakistan          231\n",
       "Brazil            214\n",
       "Nigeria           206\n",
       "Bangladesh        169\n",
       "Russia            144\n",
       "Mexico            126\n",
       "Japan             125\n",
       "Ethiopia          121\n",
       "Philippines       113\n",
       "Egypt             112\n",
       "Vietnam            99\n",
       "Name: Population of some countries, dtype: int64>"
      ]
     },
     "execution_count": 15,
     "metadata": {},
     "output_type": "execute_result"
    }
   ],
   "source": [
    "data.describe"
   ]
  },
  {
   "cell_type": "code",
   "execution_count": 16,
   "id": "1a8862fd-d8d2-40e1-9f5f-607c10e0b908",
   "metadata": {},
   "outputs": [
    {
     "data": {
      "text/plain": [
       "<bound method Series.info of China            1412\n",
       "India            1400\n",
       "United States     331\n",
       "Indonesia         273\n",
       "Pakistan          231\n",
       "Brazil            214\n",
       "Nigeria           206\n",
       "Bangladesh        169\n",
       "Russia            144\n",
       "Mexico            126\n",
       "Japan             125\n",
       "Ethiopia          121\n",
       "Philippines       113\n",
       "Egypt             112\n",
       "Vietnam            99\n",
       "Name: Population of some countries, dtype: int64>"
      ]
     },
     "execution_count": 16,
     "metadata": {},
     "output_type": "execute_result"
    }
   ],
   "source": [
    "data.info"
   ]
  },
  {
   "cell_type": "code",
   "execution_count": 17,
   "id": "29a2e551-0fec-48b7-9f19-6ea971cfdc55",
   "metadata": {},
   "outputs": [
    {
     "data": {
      "text/plain": [
       "np.float64(338.4)"
      ]
     },
     "execution_count": 17,
     "metadata": {},
     "output_type": "execute_result"
    }
   ],
   "source": [
    "data.mean()"
   ]
  },
  {
   "cell_type": "code",
   "execution_count": 20,
   "id": "56c944ee-9847-489a-bbad-3f7b1b910f20",
   "metadata": {},
   "outputs": [],
   "source": [
    "data_dic= {\n",
    "    \"Country\": [\n",
    "        \"China\", \"India\", \"United States\", \"Indonesia\", \"Pakistan\",\n",
    "        \"Brazil\", \"Nigeria\", \"Bangladesh\", \"Russia\", \"Mexico\",\n",
    "        \"Japan\", \"Ethiopia\", \"Philippines\", \"Egypt\", \"Vietnam\"\n",
    "    ],\n",
    "    \"Population (millions)\": [\n",
    "        1412, 1400, 331, 273, 231,\n",
    "        214, 206, 169, 144, 126,\n",
    "        125, 121, 113, 112, 99\n",
    "    ]\n",
    "}\n"
   ]
  },
  {
   "cell_type": "code",
   "execution_count": 22,
   "id": "79b73967-4717-4e4d-b5ef-1daa32432d95",
   "metadata": {},
   "outputs": [],
   "source": [
    "df=pd.DataFrame(data_dic)"
   ]
  },
  {
   "cell_type": "code",
   "execution_count": 23,
   "id": "00b4442d-e149-4a1c-9fb4-87a96d6e188b",
   "metadata": {},
   "outputs": [
    {
     "data": {
      "text/html": [
       "<div>\n",
       "<style scoped>\n",
       "    .dataframe tbody tr th:only-of-type {\n",
       "        vertical-align: middle;\n",
       "    }\n",
       "\n",
       "    .dataframe tbody tr th {\n",
       "        vertical-align: top;\n",
       "    }\n",
       "\n",
       "    .dataframe thead th {\n",
       "        text-align: right;\n",
       "    }\n",
       "</style>\n",
       "<table border=\"1\" class=\"dataframe\">\n",
       "  <thead>\n",
       "    <tr style=\"text-align: right;\">\n",
       "      <th></th>\n",
       "      <th>Country</th>\n",
       "      <th>Population (millions)</th>\n",
       "    </tr>\n",
       "  </thead>\n",
       "  <tbody>\n",
       "    <tr>\n",
       "      <th>0</th>\n",
       "      <td>China</td>\n",
       "      <td>1412</td>\n",
       "    </tr>\n",
       "    <tr>\n",
       "      <th>1</th>\n",
       "      <td>India</td>\n",
       "      <td>1400</td>\n",
       "    </tr>\n",
       "    <tr>\n",
       "      <th>2</th>\n",
       "      <td>United States</td>\n",
       "      <td>331</td>\n",
       "    </tr>\n",
       "    <tr>\n",
       "      <th>3</th>\n",
       "      <td>Indonesia</td>\n",
       "      <td>273</td>\n",
       "    </tr>\n",
       "    <tr>\n",
       "      <th>4</th>\n",
       "      <td>Pakistan</td>\n",
       "      <td>231</td>\n",
       "    </tr>\n",
       "    <tr>\n",
       "      <th>5</th>\n",
       "      <td>Brazil</td>\n",
       "      <td>214</td>\n",
       "    </tr>\n",
       "    <tr>\n",
       "      <th>6</th>\n",
       "      <td>Nigeria</td>\n",
       "      <td>206</td>\n",
       "    </tr>\n",
       "    <tr>\n",
       "      <th>7</th>\n",
       "      <td>Bangladesh</td>\n",
       "      <td>169</td>\n",
       "    </tr>\n",
       "    <tr>\n",
       "      <th>8</th>\n",
       "      <td>Russia</td>\n",
       "      <td>144</td>\n",
       "    </tr>\n",
       "    <tr>\n",
       "      <th>9</th>\n",
       "      <td>Mexico</td>\n",
       "      <td>126</td>\n",
       "    </tr>\n",
       "    <tr>\n",
       "      <th>10</th>\n",
       "      <td>Japan</td>\n",
       "      <td>125</td>\n",
       "    </tr>\n",
       "    <tr>\n",
       "      <th>11</th>\n",
       "      <td>Ethiopia</td>\n",
       "      <td>121</td>\n",
       "    </tr>\n",
       "    <tr>\n",
       "      <th>12</th>\n",
       "      <td>Philippines</td>\n",
       "      <td>113</td>\n",
       "    </tr>\n",
       "    <tr>\n",
       "      <th>13</th>\n",
       "      <td>Egypt</td>\n",
       "      <td>112</td>\n",
       "    </tr>\n",
       "    <tr>\n",
       "      <th>14</th>\n",
       "      <td>Vietnam</td>\n",
       "      <td>99</td>\n",
       "    </tr>\n",
       "  </tbody>\n",
       "</table>\n",
       "</div>"
      ],
      "text/plain": [
       "          Country  Population (millions)\n",
       "0           China                   1412\n",
       "1           India                   1400\n",
       "2   United States                    331\n",
       "3       Indonesia                    273\n",
       "4        Pakistan                    231\n",
       "5          Brazil                    214\n",
       "6         Nigeria                    206\n",
       "7      Bangladesh                    169\n",
       "8          Russia                    144\n",
       "9          Mexico                    126\n",
       "10          Japan                    125\n",
       "11       Ethiopia                    121\n",
       "12    Philippines                    113\n",
       "13          Egypt                    112\n",
       "14        Vietnam                     99"
      ]
     },
     "execution_count": 23,
     "metadata": {},
     "output_type": "execute_result"
    }
   ],
   "source": [
    "df"
   ]
  },
  {
   "cell_type": "code",
   "execution_count": 25,
   "id": "1775619a-50c4-43ac-9d43-98df1ae825f9",
   "metadata": {},
   "outputs": [],
   "source": [
    "df.to_excel(\"sampleDataFrameEx.xlsx\",index=False)"
   ]
  },
  {
   "cell_type": "code",
   "execution_count": 26,
   "id": "5ea6ad57-a31b-4216-accf-3ca75ee4faf8",
   "metadata": {},
   "outputs": [
    {
     "data": {
      "text/plain": [
       "China             True\n",
       "India             True\n",
       "United States     True\n",
       "Indonesia         True\n",
       "Pakistan          True\n",
       "Brazil            True\n",
       "Nigeria           True\n",
       "Bangladesh       False\n",
       "Russia           False\n",
       "Mexico           False\n",
       "Japan            False\n",
       "Ethiopia         False\n",
       "Philippines      False\n",
       "Egypt            False\n",
       "Vietnam          False\n",
       "Name: Population of some countries, dtype: bool"
      ]
     },
     "execution_count": 26,
     "metadata": {},
     "output_type": "execute_result"
    }
   ],
   "source": [
    "data>200"
   ]
  },
  {
   "cell_type": "code",
   "execution_count": null,
   "id": "eac6bfb5-40fd-42ec-8355-0a65e14391b7",
   "metadata": {},
   "outputs": [],
   "source": []
  },
  {
   "cell_type": "code",
   "execution_count": null,
   "id": "4fb32919-281d-4e1b-8357-5daa9ea01c7c",
   "metadata": {},
   "outputs": [],
   "source": []
  }
 ],
 "metadata": {
  "kernelspec": {
   "display_name": "Python 3 (ipykernel)",
   "language": "python",
   "name": "python3"
  },
  "language_info": {
   "codemirror_mode": {
    "name": "ipython",
    "version": 3
   },
   "file_extension": ".py",
   "mimetype": "text/x-python",
   "name": "python",
   "nbconvert_exporter": "python",
   "pygments_lexer": "ipython3",
   "version": "3.13.1"
  }
 },
 "nbformat": 4,
 "nbformat_minor": 5
}
