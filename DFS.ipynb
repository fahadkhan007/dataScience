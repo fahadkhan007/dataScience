{
 "cells": [
  {
   "cell_type": "markdown",
   "id": "787c0ba6-ac47-423b-ad1d-33aeb93c2fc6",
   "metadata": {},
   "source": [
    "#Implementing DFS"
   ]
  },
  {
   "cell_type": "code",
   "execution_count": 4,
   "id": "aee46473-af10-4fa5-be5b-cb2055957ce9",
   "metadata": {},
   "outputs": [],
   "source": [
    "from collections import deque"
   ]
  },
  {
   "cell_type": "code",
   "execution_count": 5,
   "id": "f02c8e10-afcf-4fa8-8728-fe8e902db492",
   "metadata": {},
   "outputs": [],
   "source": [
    "def dfs(graph,start):\n",
    "    visited=set()\n",
    "    stack=[start]\n",
    "    result=[]\n",
    "    while stack:\n",
    "        node =stack.pop()\n",
    "        if node not in visited:\n",
    "            visited.add(node)\n",
    "            result.append(node)\n",
    "            stack.extend(reversed(graph[node]))\n",
    "    return result\n",
    "\n"
   ]
  },
  {
   "cell_type": "code",
   "execution_count": 6,
   "id": "b4aa9b95-4b08-40d4-b48d-e0446770cdc8",
   "metadata": {},
   "outputs": [],
   "source": [
    "graph={\n",
    "    'A':['B','C'],\n",
    "    'B':['D','E'],\n",
    "    'C':['F'],\n",
    "    'D':[],\n",
    "    'E':['F'],\n",
    "    'F':[] \n",
    "\n",
    "}"
   ]
  },
  {
   "cell_type": "code",
   "execution_count": 7,
   "id": "a1d03d96-1657-4be3-b0e1-dab6f7707129",
   "metadata": {},
   "outputs": [
    {
     "name": "stdout",
     "output_type": "stream",
     "text": [
      "dfs (iterative):  ['A', 'B', 'D', 'E', 'F', 'C']\n"
     ]
    }
   ],
   "source": [
    "print(\"dfs (iterative): \",dfs(graph,'A'))\n"
   ]
  },
  {
   "cell_type": "code",
   "execution_count": 8,
   "id": "91025920-a043-4a16-9fe9-0db20069df3a",
   "metadata": {},
   "outputs": [
    {
     "data": {
      "text/plain": [
       "['A', 'B', 'D', 'E', 'F', 'C']"
      ]
     },
     "execution_count": 8,
     "metadata": {},
     "output_type": "execute_result"
    }
   ],
   "source": [
    "dfs(graph,'A')"
   ]
  },
  {
   "cell_type": "code",
   "execution_count": 9,
   "id": "59517c53-5f57-43b7-9f31-5ebade465499",
   "metadata": {},
   "outputs": [
    {
     "data": {
      "text/plain": [
       "['B', 'D', 'E', 'F']"
      ]
     },
     "execution_count": 9,
     "metadata": {},
     "output_type": "execute_result"
    }
   ],
   "source": [
    "dfs(graph,'B')"
   ]
  },
  {
   "cell_type": "code",
   "execution_count": 10,
   "id": "f8511440-b994-416c-90e8-afe22f87e945",
   "metadata": {},
   "outputs": [
    {
     "data": {
      "text/plain": [
       "['A', 'B', 'D', 'E', 'F', 'C']"
      ]
     },
     "execution_count": 10,
     "metadata": {},
     "output_type": "execute_result"
    }
   ],
   "source": [
    "dfs(graph,'A')"
   ]
  },
  {
   "cell_type": "code",
   "execution_count": null,
   "id": "73b1811f-40b5-4d4b-9721-1029f5028a39",
   "metadata": {},
   "outputs": [],
   "source": []
  }
 ],
 "metadata": {
  "kernelspec": {
   "display_name": "Python 3 (ipykernel)",
   "language": "python",
   "name": "python3"
  },
  "language_info": {
   "codemirror_mode": {
    "name": "ipython",
    "version": 3
   },
   "file_extension": ".py",
   "mimetype": "text/x-python",
   "name": "python",
   "nbconvert_exporter": "python",
   "pygments_lexer": "ipython3",
   "version": "3.12.5"
  }
 },
 "nbformat": 4,
 "nbformat_minor": 5
}
