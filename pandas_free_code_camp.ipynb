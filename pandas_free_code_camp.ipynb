{
 "cells": [
  {
   "cell_type": "markdown",
   "id": "1b95e26e-fb90-42be-be99-7c8c5b23e320",
   "metadata": {},
   "source": [
    "# **Pandas Tutorial FreeCodeCamp**"
   ]
  },
  {
   "cell_type": "code",
   "execution_count": 1,
   "id": "0d674f41-dec4-4e50-ba7d-965cb39a5732",
   "metadata": {},
   "outputs": [],
   "source": [
    "import numpy as np\n",
    "import pandas as pd"
   ]
  },
  {
   "cell_type": "code",
   "execution_count": 2,
   "id": "ba9caab6-daca-4d5f-9769-c64fefb0ea9b",
   "metadata": {},
   "outputs": [],
   "source": [
    "sr=pd.Series([x for x in range(100) if x%12==0])"
   ]
  },
  {
   "cell_type": "code",
   "execution_count": 3,
   "id": "55f0a992-d94b-4248-b0e5-08e172efb758",
   "metadata": {},
   "outputs": [
    {
     "data": {
      "text/plain": [
       "0     0\n",
       "1    12\n",
       "2    24\n",
       "3    36\n",
       "4    48\n",
       "5    60\n",
       "6    72\n",
       "7    84\n",
       "8    96\n",
       "dtype: int64"
      ]
     },
     "execution_count": 3,
     "metadata": {},
     "output_type": "execute_result"
    }
   ],
   "source": [
    "sr"
   ]
  },
  {
   "cell_type": "code",
   "execution_count": 4,
   "id": "5aa0af50-8bef-4643-8bc5-573cef694a34",
   "metadata": {},
   "outputs": [],
   "source": [
    "sr.name=\"Table  of 12\""
   ]
  },
  {
   "cell_type": "code",
   "execution_count": 5,
   "id": "a1ef7c05-6d9c-4250-866e-3712ee85195b",
   "metadata": {},
   "outputs": [
    {
     "data": {
      "text/plain": [
       "0     0\n",
       "1    12\n",
       "2    24\n",
       "3    36\n",
       "4    48\n",
       "5    60\n",
       "6    72\n",
       "7    84\n",
       "8    96\n",
       "Name: Table  of 12, dtype: int64"
      ]
     },
     "execution_count": 5,
     "metadata": {},
     "output_type": "execute_result"
    }
   ],
   "source": [
    "sr"
   ]
  },
  {
   "cell_type": "code",
   "execution_count": 6,
   "id": "cdf01902-8307-43a7-8c33-9aa66e46852c",
   "metadata": {},
   "outputs": [
    {
     "data": {
      "text/plain": [
       "array([ 0, 12, 24, 36, 48, 60, 72, 84, 96])"
      ]
     },
     "execution_count": 6,
     "metadata": {},
     "output_type": "execute_result"
    }
   ],
   "source": [
    "sr.values"
   ]
  },
  {
   "cell_type": "code",
   "execution_count": 8,
   "id": "b3ec9f03-5231-4b1c-bc49-7d449ff7801a",
   "metadata": {},
   "outputs": [
    {
     "data": {
      "text/plain": [
       "RangeIndex(start=0, stop=9, step=1)"
      ]
     },
     "execution_count": 8,
     "metadata": {},
     "output_type": "execute_result"
    }
   ],
   "source": [
    "sr.index"
   ]
  },
  {
   "cell_type": "code",
   "execution_count": null,
   "id": "5b745588-db5c-4126-aa71-6f1681b03785",
   "metadata": {},
   "outputs": [],
   "source": []
  }
 ],
 "metadata": {
  "kernelspec": {
   "display_name": "Python 3 (ipykernel)",
   "language": "python",
   "name": "python3"
  },
  "language_info": {
   "codemirror_mode": {
    "name": "ipython",
    "version": 3
   },
   "file_extension": ".py",
   "mimetype": "text/x-python",
   "name": "python",
   "nbconvert_exporter": "python",
   "pygments_lexer": "ipython3",
   "version": "3.13.1"
  }
 },
 "nbformat": 4,
 "nbformat_minor": 5
}
