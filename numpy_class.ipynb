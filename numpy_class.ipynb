{
 "cells": [
  {
   "cell_type": "code",
   "execution_count": 1,
   "id": "025f458c-3160-446a-8a0f-d248474ed4a1",
   "metadata": {},
   "outputs": [],
   "source": [
    "import numpy as np"
   ]
  },
  {
   "cell_type": "code",
   "execution_count": 2,
   "id": "32af4c28-df9e-4ec8-a686-b065628970c1",
   "metadata": {},
   "outputs": [],
   "source": [
    "arr1=np.array([10,20,30,40])\n",
    "arr=np.array([1,2,3,4])"
   ]
  },
  {
   "cell_type": "code",
   "execution_count": 3,
   "id": "881eda20-7efa-4fcf-8695-2a5fa2996db8",
   "metadata": {},
   "outputs": [],
   "source": [
    "array_sum=arr1+arr"
   ]
  },
  {
   "cell_type": "code",
   "execution_count": 4,
   "id": "a476f6f5-e3c2-4a9f-b80f-bc142d92a666",
   "metadata": {
    "scrolled": true
   },
   "outputs": [
    {
     "data": {
      "text/plain": [
       "array([11, 22, 33, 44])"
      ]
     },
     "execution_count": 4,
     "metadata": {},
     "output_type": "execute_result"
    }
   ],
   "source": [
    "array_sum"
   ]
  },
  {
   "cell_type": "code",
   "execution_count": 5,
   "id": "16d92fce-e0bc-4af3-a06f-ad0f4493d0ce",
   "metadata": {},
   "outputs": [],
   "source": [
    "import pandas as pd"
   ]
  },
  {
   "cell_type": "code",
   "execution_count": 6,
   "id": "45a4f244-2f3f-4a83-9165-69295b2915b7",
   "metadata": {},
   "outputs": [],
   "source": [
    "data= {\n",
    "    'name':['Alice','akchhat'],\n",
    "    'age':[5,21]\n",
    "}"
   ]
  },
  {
   "cell_type": "code",
   "execution_count": 7,
   "id": "fe636895-3762-4037-849e-ed9f9d5c26b4",
   "metadata": {},
   "outputs": [],
   "source": [
    "df=pd.DataFrame(data)"
   ]
  },
  {
   "cell_type": "code",
   "execution_count": 8,
   "id": "bdf96f6f-62d7-419a-b5fb-51991d7ee246",
   "metadata": {},
   "outputs": [
    {
     "data": {
      "text/html": [
       "<div>\n",
       "<style scoped>\n",
       "    .dataframe tbody tr th:only-of-type {\n",
       "        vertical-align: middle;\n",
       "    }\n",
       "\n",
       "    .dataframe tbody tr th {\n",
       "        vertical-align: top;\n",
       "    }\n",
       "\n",
       "    .dataframe thead th {\n",
       "        text-align: right;\n",
       "    }\n",
       "</style>\n",
       "<table border=\"1\" class=\"dataframe\">\n",
       "  <thead>\n",
       "    <tr style=\"text-align: right;\">\n",
       "      <th></th>\n",
       "      <th>name</th>\n",
       "      <th>age</th>\n",
       "    </tr>\n",
       "  </thead>\n",
       "  <tbody>\n",
       "    <tr>\n",
       "      <th>0</th>\n",
       "      <td>Alice</td>\n",
       "      <td>5</td>\n",
       "    </tr>\n",
       "    <tr>\n",
       "      <th>1</th>\n",
       "      <td>akchhat</td>\n",
       "      <td>21</td>\n",
       "    </tr>\n",
       "  </tbody>\n",
       "</table>\n",
       "</div>"
      ],
      "text/plain": [
       "      name  age\n",
       "0    Alice    5\n",
       "1  akchhat   21"
      ]
     },
     "execution_count": 8,
     "metadata": {},
     "output_type": "execute_result"
    }
   ],
   "source": [
    "df\n"
   ]
  },
  {
   "cell_type": "code",
   "execution_count": 9,
   "id": "7afb9acf-9bd3-4a2d-91ec-7ad717458dac",
   "metadata": {},
   "outputs": [],
   "source": [
    "array1=np.zeros((2,3))"
   ]
  },
  {
   "cell_type": "code",
   "execution_count": 10,
   "id": "0682421b-fac7-43dd-bdd0-c69be4cafaac",
   "metadata": {},
   "outputs": [
    {
     "data": {
      "text/plain": [
       "array([[0., 0., 0.],\n",
       "       [0., 0., 0.]])"
      ]
     },
     "execution_count": 10,
     "metadata": {},
     "output_type": "execute_result"
    }
   ],
   "source": [
    "array1"
   ]
  },
  {
   "cell_type": "code",
   "execution_count": 11,
   "id": "60c8d920-bfa3-48e1-8a26-daa0de09a6e8",
   "metadata": {},
   "outputs": [],
   "source": [
    "array2=np.linspace(0,5,10)"
   ]
  },
  {
   "cell_type": "code",
   "execution_count": 12,
   "id": "7a786db1-a687-4e53-91b5-c33e0876e6ca",
   "metadata": {},
   "outputs": [
    {
     "data": {
      "text/plain": [
       "array([0.        , 0.55555556, 1.11111111, 1.66666667, 2.22222222,\n",
       "       2.77777778, 3.33333333, 3.88888889, 4.44444444, 5.        ])"
      ]
     },
     "execution_count": 12,
     "metadata": {},
     "output_type": "execute_result"
    }
   ],
   "source": [
    "array2"
   ]
  },
  {
   "cell_type": "code",
   "execution_count": 13,
   "id": "e74ca4a0-b0f3-4e29-a1ff-42433390c36b",
   "metadata": {},
   "outputs": [],
   "source": [
    "array3=np.ones((3,3))"
   ]
  },
  {
   "cell_type": "code",
   "execution_count": 14,
   "id": "b51867df-7e62-4ec9-83bd-14fafb54f27b",
   "metadata": {},
   "outputs": [
    {
     "data": {
      "text/plain": [
       "array([[1., 1., 1.],\n",
       "       [1., 1., 1.],\n",
       "       [1., 1., 1.]])"
      ]
     },
     "execution_count": 14,
     "metadata": {},
     "output_type": "execute_result"
    }
   ],
   "source": [
    "array3"
   ]
  },
  {
   "cell_type": "code",
   "execution_count": 15,
   "id": "f50ff796-7eed-41a1-a574-401aa7a86737",
   "metadata": {},
   "outputs": [
    {
     "data": {
      "text/plain": [
       "(3, 3)"
      ]
     },
     "execution_count": 15,
     "metadata": {},
     "output_type": "execute_result"
    }
   ],
   "source": [
    "array3.shape"
   ]
  },
  {
   "cell_type": "code",
   "execution_count": 16,
   "id": "37d5d6df-b4e6-4ca9-bc3f-19bfce3e1756",
   "metadata": {},
   "outputs": [
    {
     "data": {
      "text/plain": [
       "2"
      ]
     },
     "execution_count": 16,
     "metadata": {},
     "output_type": "execute_result"
    }
   ],
   "source": [
    "array3.ndim"
   ]
  },
  {
   "cell_type": "code",
   "execution_count": 17,
   "id": "74f9a62e-962b-4383-bd42-a7730232b987",
   "metadata": {},
   "outputs": [
    {
     "data": {
      "text/plain": [
       "dtype('float64')"
      ]
     },
     "execution_count": 17,
     "metadata": {},
     "output_type": "execute_result"
    }
   ],
   "source": [
    "array3.dtype"
   ]
  },
  {
   "cell_type": "code",
   "execution_count": 18,
   "id": "dad96d73-03b5-4706-84c6-91dc73c75509",
   "metadata": {},
   "outputs": [
    {
     "data": {
      "text/plain": [
       "9"
      ]
     },
     "execution_count": 18,
     "metadata": {},
     "output_type": "execute_result"
    }
   ],
   "source": [
    "array3.size"
   ]
  },
  {
   "cell_type": "code",
   "execution_count": 19,
   "id": "0cdaf4cc-c695-4420-bf01-4eeda6892ea6",
   "metadata": {},
   "outputs": [],
   "source": [
    "array4=np.arange(6)"
   ]
  },
  {
   "cell_type": "code",
   "execution_count": 20,
   "id": "74ea1bdf-9f8f-4d6f-952f-f9fd8e2dfc06",
   "metadata": {},
   "outputs": [
    {
     "data": {
      "text/plain": [
       "array([0, 1, 2, 3, 4, 5])"
      ]
     },
     "execution_count": 20,
     "metadata": {},
     "output_type": "execute_result"
    }
   ],
   "source": [
    "array4"
   ]
  },
  {
   "cell_type": "code",
   "execution_count": 21,
   "id": "23390650-0cc0-4b8a-9215-b634c3c21595",
   "metadata": {},
   "outputs": [],
   "source": [
    "reshaped_array=array4.reshape(2,3)"
   ]
  },
  {
   "cell_type": "code",
   "execution_count": 22,
   "id": "e5862863-4ab7-4e00-9ac4-df7df991cc38",
   "metadata": {},
   "outputs": [
    {
     "data": {
      "text/plain": [
       "array([0, 1, 2, 3, 4, 5])"
      ]
     },
     "execution_count": 22,
     "metadata": {},
     "output_type": "execute_result"
    }
   ],
   "source": [
    "array4.T"
   ]
  },
  {
   "cell_type": "code",
   "execution_count": 23,
   "id": "2ba459bd-e1f8-4c07-a0d2-4822fbb12e4c",
   "metadata": {},
   "outputs": [
    {
     "data": {
      "text/plain": [
       "array([[0, 3],\n",
       "       [1, 4],\n",
       "       [2, 5]])"
      ]
     },
     "execution_count": 23,
     "metadata": {},
     "output_type": "execute_result"
    }
   ],
   "source": [
    "reshaped_array.T"
   ]
  },
  {
   "cell_type": "code",
   "execution_count": 24,
   "id": "e94561ff-86c7-4f02-9021-18072743b5fe",
   "metadata": {},
   "outputs": [],
   "source": [
    "np.random.seed(42)"
   ]
  },
  {
   "cell_type": "code",
   "execution_count": 25,
   "id": "e44ea37f-b6d9-4773-b077-f210762b7ea1",
   "metadata": {},
   "outputs": [],
   "source": [
    "random_arr=np.random.rand(3,3)"
   ]
  },
  {
   "cell_type": "code",
   "execution_count": 26,
   "id": "c4cf8d66-5a8a-46a8-925a-a6c57a8fa2c7",
   "metadata": {},
   "outputs": [
    {
     "data": {
      "text/plain": [
       "array([[0.37454012, 0.95071431, 0.73199394],\n",
       "       [0.59865848, 0.15601864, 0.15599452],\n",
       "       [0.05808361, 0.86617615, 0.60111501]])"
      ]
     },
     "execution_count": 26,
     "metadata": {},
     "output_type": "execute_result"
    }
   ],
   "source": [
    "random_arr"
   ]
  },
  {
   "cell_type": "code",
   "execution_count": 27,
   "id": "a49a0f31-60a9-4f6d-a7a3-e054d8d93051",
   "metadata": {},
   "outputs": [],
   "source": [
    "y=np.random.randint(1,9)"
   ]
  },
  {
   "cell_type": "code",
   "execution_count": 28,
   "id": "faf8edf0-238e-4895-8858-3f1716ad5cb9",
   "metadata": {},
   "outputs": [
    {
     "data": {
      "text/plain": [
       "8"
      ]
     },
     "execution_count": 28,
     "metadata": {},
     "output_type": "execute_result"
    }
   ],
   "source": [
    "y"
   ]
  },
  {
   "cell_type": "code",
   "execution_count": 29,
   "id": "faee5f51-6a29-409e-92f7-657296c4dd31",
   "metadata": {},
   "outputs": [],
   "source": [
    "arrnew=np.array([5,10,15,20,25])"
   ]
  },
  {
   "cell_type": "code",
   "execution_count": 30,
   "id": "36ac3c4b-6f1c-40ac-8979-41494b8f924e",
   "metadata": {},
   "outputs": [
    {
     "data": {
      "text/plain": [
       "array([10, 20, 30, 40, 50])"
      ]
     },
     "execution_count": 30,
     "metadata": {},
     "output_type": "execute_result"
    }
   ],
   "source": [
    "arrnew*2"
   ]
  },
  {
   "cell_type": "code",
   "execution_count": 31,
   "id": "4cdc85d7-8e1c-4316-884b-5c55bb8582d2",
   "metadata": {},
   "outputs": [],
   "source": [
    "arrnew[arrnew>10]=99\n",
    "        "
   ]
  },
  {
   "cell_type": "code",
   "execution_count": 32,
   "id": "455dbeda-dafc-4da2-ae5a-63a1b8ddeef3",
   "metadata": {},
   "outputs": [
    {
     "data": {
      "text/plain": [
       "array([ 5, 10, 99, 99, 99])"
      ]
     },
     "execution_count": 32,
     "metadata": {},
     "output_type": "execute_result"
    }
   ],
   "source": [
    "arrnew"
   ]
  },
  {
   "cell_type": "code",
   "execution_count": 33,
   "id": "4ecf216a-8865-407e-a1ba-d7ed7d641d18",
   "metadata": {},
   "outputs": [],
   "source": [
    "arrl=[a for a in range(1,10)]"
   ]
  },
  {
   "cell_type": "code",
   "execution_count": 34,
   "id": "a64bc97e-845b-4c8a-a1a9-307cec5aee7c",
   "metadata": {},
   "outputs": [],
   "source": [
    "arrx=np.array(arrl)"
   ]
  },
  {
   "cell_type": "code",
   "execution_count": 35,
   "id": "66db6582-af88-4eba-93b2-9bd1b797acea",
   "metadata": {},
   "outputs": [
    {
     "data": {
      "text/plain": [
       "array([1, 2, 3, 4, 5, 6, 7, 8, 9])"
      ]
     },
     "execution_count": 35,
     "metadata": {},
     "output_type": "execute_result"
    }
   ],
   "source": [
    "arrx"
   ]
  },
  {
   "cell_type": "code",
   "execution_count": 47,
   "id": "5e43b208-2120-46dc-bc53-e7fa696b4f12",
   "metadata": {},
   "outputs": [],
   "source": [
    "arrx[arrx%2!=0]=-1"
   ]
  },
  {
   "cell_type": "code",
   "execution_count": 48,
   "id": "058c2aab-1cd2-4c5e-9e71-5269af4bdc71",
   "metadata": {},
   "outputs": [
    {
     "data": {
      "text/plain": [
       "array([-1,  2, -1,  4, -1,  6, -1,  8, -1])"
      ]
     },
     "execution_count": 48,
     "metadata": {},
     "output_type": "execute_result"
    }
   ],
   "source": [
    "arrx"
   ]
  },
  {
   "cell_type": "code",
   "execution_count": 38,
   "id": "ad6cc6c1-33dc-4165-b0d8-8fcefd830f10",
   "metadata": {},
   "outputs": [],
   "source": [
    "arre=[a for a in range(0,10) if a%2==0]"
   ]
  },
  {
   "cell_type": "code",
   "execution_count": 39,
   "id": "0da1f0c8-400a-4d62-8b2b-7989032b16b3",
   "metadata": {},
   "outputs": [
    {
     "data": {
      "text/plain": [
       "[0, 2, 4, 6, 8]"
      ]
     },
     "execution_count": 39,
     "metadata": {},
     "output_type": "execute_result"
    }
   ],
   "source": [
    "arre"
   ]
  },
  {
   "cell_type": "code",
   "execution_count": 40,
   "id": "d7ccd3c8-31f2-41ab-9bef-7b2d456822b9",
   "metadata": {},
   "outputs": [],
   "source": [
    "divby9=[x for x in range(100) if x%9==0]"
   ]
  },
  {
   "cell_type": "code",
   "execution_count": 41,
   "id": "49b7ea2e-b900-40d5-8a6d-82c0e2c1fc17",
   "metadata": {},
   "outputs": [
    {
     "data": {
      "text/plain": [
       "[0, 9, 18, 27, 36, 45, 54, 63, 72, 81, 90, 99]"
      ]
     },
     "execution_count": 41,
     "metadata": {},
     "output_type": "execute_result"
    }
   ],
   "source": [
    "divby9"
   ]
  },
  {
   "cell_type": "code",
   "execution_count": 42,
   "id": "1a2ff8e0-1a47-4d2e-b3cb-518d6dd98c13",
   "metadata": {},
   "outputs": [],
   "source": [
    "divby9arr=np.array(divby9)"
   ]
  },
  {
   "cell_type": "code",
   "execution_count": 43,
   "id": "0bbff028-cf92-4311-a647-8fd9e3cee138",
   "metadata": {},
   "outputs": [
    {
     "data": {
      "text/plain": [
       "array([ 0,  9, 18, 27, 36, 45, 54, 63, 72, 81, 90, 99])"
      ]
     },
     "execution_count": 43,
     "metadata": {},
     "output_type": "execute_result"
    }
   ],
   "source": [
    "divby9arr"
   ]
  },
  {
   "cell_type": "code",
   "execution_count": 44,
   "id": "10f7c5fb-daff-401c-8555-c72f8b966693",
   "metadata": {},
   "outputs": [],
   "source": [
    "dict1={\n",
    "    \"name\":[\"fahad\",\"maher\",\"manjar\",\"mazen\"],\n",
    "    \"age\":[20,1,34,0.1]\n",
    "}"
   ]
  },
  {
   "cell_type": "code",
   "execution_count": 45,
   "id": "0ccc5db8-62fa-4e76-ae4a-71e9c5d22881",
   "metadata": {},
   "outputs": [],
   "source": [
    "df2=pd.DataFrame(dict1)"
   ]
  },
  {
   "cell_type": "code",
   "execution_count": 46,
   "id": "05fdb820-9fa5-491b-a605-a5f45d13b694",
   "metadata": {},
   "outputs": [
    {
     "data": {
      "text/html": [
       "<div>\n",
       "<style scoped>\n",
       "    .dataframe tbody tr th:only-of-type {\n",
       "        vertical-align: middle;\n",
       "    }\n",
       "\n",
       "    .dataframe tbody tr th {\n",
       "        vertical-align: top;\n",
       "    }\n",
       "\n",
       "    .dataframe thead th {\n",
       "        text-align: right;\n",
       "    }\n",
       "</style>\n",
       "<table border=\"1\" class=\"dataframe\">\n",
       "  <thead>\n",
       "    <tr style=\"text-align: right;\">\n",
       "      <th></th>\n",
       "      <th>name</th>\n",
       "      <th>age</th>\n",
       "    </tr>\n",
       "  </thead>\n",
       "  <tbody>\n",
       "    <tr>\n",
       "      <th>0</th>\n",
       "      <td>fahad</td>\n",
       "      <td>20.0</td>\n",
       "    </tr>\n",
       "    <tr>\n",
       "      <th>1</th>\n",
       "      <td>maher</td>\n",
       "      <td>1.0</td>\n",
       "    </tr>\n",
       "    <tr>\n",
       "      <th>2</th>\n",
       "      <td>manjar</td>\n",
       "      <td>34.0</td>\n",
       "    </tr>\n",
       "    <tr>\n",
       "      <th>3</th>\n",
       "      <td>mazen</td>\n",
       "      <td>0.1</td>\n",
       "    </tr>\n",
       "  </tbody>\n",
       "</table>\n",
       "</div>"
      ],
      "text/plain": [
       "     name   age\n",
       "0   fahad  20.0\n",
       "1   maher   1.0\n",
       "2  manjar  34.0\n",
       "3   mazen   0.1"
      ]
     },
     "execution_count": 46,
     "metadata": {},
     "output_type": "execute_result"
    }
   ],
   "source": [
    "df2"
   ]
  },
  {
   "cell_type": "code",
   "execution_count": null,
   "id": "b5298ad5-789c-4d6b-ad50-1ce84ae60c70",
   "metadata": {},
   "outputs": [],
   "source": []
  }
 ],
 "metadata": {
  "kernelspec": {
   "display_name": "Python 3 (ipykernel)",
   "language": "python",
   "name": "python3"
  },
  "language_info": {
   "codemirror_mode": {
    "name": "ipython",
    "version": 3
   },
   "file_extension": ".py",
   "mimetype": "text/x-python",
   "name": "python",
   "nbconvert_exporter": "python",
   "pygments_lexer": "ipython3",
   "version": "3.12.5"
  },
  "widgets": {
   "application/vnd.jupyter.widget-state+json": {
    "state": {},
    "version_major": 2,
    "version_minor": 0
   }
  }
 },
 "nbformat": 4,
 "nbformat_minor": 5
}
